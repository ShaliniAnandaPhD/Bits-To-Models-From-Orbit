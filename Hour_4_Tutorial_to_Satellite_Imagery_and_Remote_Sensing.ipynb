{
  "nbformat": 4,
  "nbformat_minor": 0,
  "metadata": {
    "colab": {
      "provenance": [],
      "authorship_tag": "ABX9TyM0oGsnw7J+3E5wVOCRVKI0",
      "include_colab_link": true
    },
    "kernelspec": {
      "name": "python3",
      "display_name": "Python 3"
    },
    "language_info": {
      "name": "python"
    }
  },
  "cells": [
    {
      "cell_type": "markdown",
      "metadata": {
        "id": "view-in-github",
        "colab_type": "text"
      },
      "source": [
        "<a href=\"https://colab.research.google.com/github/ShaliniAnandaPhD/Bits-To-Models-From-Orbit/blob/main/Hour_4_Tutorial_to_Satellite_Imagery_and_Remote_Sensing.ipynb\" target=\"_parent\"><img src=\"https://colab.research.google.com/assets/colab-badge.svg\" alt=\"Open In Colab\"/></a>"
      ]
    },
    {
      "cell_type": "markdown",
      "source": [
        "Image Analysis in Google Earth Engine - 1 Hour Tutorial\n",
        "Introduction (5 minutes) **bold text**\n",
        "\n",
        "Briefly introduce Google Earth Engine as a cloud-based platform for planetary-scale geospatial analysis using satellite imagery and other datasets\n",
        "\n",
        "Explain the goal is to provide an overview of key image analysis techniques in Earth Engine in an hour\n",
        "\n",
        "Cover the main topics that will be addressed:\n",
        "\n",
        "Image preprocessing\n",
        "\n",
        "Digital image processing\n",
        "\n",
        "Image classification"
      ],
      "metadata": {
        "id": "TK8JxVObqCII"
      }
    },
    {
      "cell_type": "markdown",
      "source": [
        "Discuss common preprocessing like geometric and radiometric correction"
      ],
      "metadata": {
        "id": "71YDEA-MrXA5"
      }
    },
    {
      "cell_type": "code",
      "source": [
        "# Import and initialize Earth Engine\n",
        "import ee\n",
        "ee.Initialize()\n",
        "\n",
        "# Load an image\n",
        "image = ee.Image('LANDSAT/LC08/C01/T1/LC08_044034_20140318')\n",
        "\n",
        "# Get projection info\n",
        "print(image.projection())\n",
        "\n",
        "# Reproject image\n",
        "reprojected = image.reproject('EPSG:4326')"
      ],
      "metadata": {
        "id": "GmPw9uiSrOGo"
      },
      "execution_count": null,
      "outputs": []
    },
    {
      "cell_type": "markdown",
      "source": [
        "Show image registration"
      ],
      "metadata": {
        "id": "gqfJFoqVrazJ"
      }
    },
    {
      "cell_type": "code",
      "source": [
        "# Load two images\n",
        "image1 = ee.Image('IMAGE1')\n",
        "image2 = ee.Image('IMAGE2')\n",
        "\n",
        "# Register image2 to image1\n",
        "registered = image2.register(referenceImage=image1)"
      ],
      "metadata": {
        "id": "UnjwEGgtrgJV"
      },
      "execution_count": null,
      "outputs": []
    },
    {
      "cell_type": "markdown",
      "source": [
        "**Image Preprocessing (15 minutes)**\n",
        "\n",
        "Discuss common preprocessing steps like geometric and radiometric correction\n",
        "\n",
        "Show how to find image metadata like projection info in Earth Engine\n",
        "\n",
        "Demonstrate reprojection of an image from its native projection to another standard projection\n",
        "\n",
        "Illustrate image registration to align images using an image pair\n",
        "\n",
        "Introduce spectral indices like NDVI and show how to calculate them\n",
        "\n",
        "Demonstrate cloud and shadow removal techniques"
      ],
      "metadata": {
        "id": "kLzCpxipqgtv"
      }
    },
    {
      "cell_type": "code",
      "source": [
        "# Load an image\n",
        "image = ee.Image('LANDSAT/LC08/C01/T1/LC08_044034_20140318')\n",
        "\n",
        "# Compute NDVI\n",
        "ndvi = image.normalizedDifference(['B5','B4'])\n",
        "\n",
        "# Display NDVI\n",
        "Map.addLayer(ndvi)"
      ],
      "metadata": {
        "id": "WVNPzLebtuU_"
      },
      "execution_count": null,
      "outputs": []
    },
    {
      "cell_type": "markdown",
      "source": [
        "**Digital Image Processing (15 minutes)**\n",
        "\n",
        "Explain the goal of image enhancement and categories like contrast manipulation, spatial filtering, etc.\n",
        "Show grey level thresholding to segment water pixels from an image\n",
        "\n",
        "Illustrate level slicing to highlight different water content based on NDWI\n",
        "\n",
        "Demonstrate spatial filtering using convolution with low-pass and high-pass kernels\n",
        "\n",
        "Show Canny edge detection and Hough line detection\n",
        "Illustrate pan-sharpening by converting RGB bands to HSV space\n",
        "\n",
        "Show texture analysis using entropy filter on high resolution imagery"
      ],
      "metadata": {
        "id": "OMwfOEgjqoWO"
      }
    },
    {
      "cell_type": "code",
      "source": [
        "# Load image\n",
        "image = ee.Image('LANDSAT/LC08/C01/T1/LC08_044034_20140318')\n",
        "\n",
        "# Threshold NIR band\n",
        "watermask = image.select('B5').gt(0.1)\n",
        "\n",
        "# Mask water pixels\n",
        "masked = image.updateMask(watermask)"
      ],
      "metadata": {
        "id": "daHLEnO9twTD"
      },
      "execution_count": null,
      "outputs": []
    },
    {
      "cell_type": "code",
      "source": [
        "# Compute NDWI\n",
        "ndwi = image.normalizedDifference(['B3','B5'])\n",
        "\n",
        "# Slice NDWI into classes\n",
        "classes = ndwi.gt(-0.1).add(1).updateMask(ndwi.lt(0.1)).add(2)\n",
        "\n",
        "# Display slices\n",
        "Map.addLayer(classes, {min: 1, max: 3, palette: ['00FFFF', '0000FF']})"
      ],
      "metadata": {
        "id": "3cvyLUQ5t0LZ"
      },
      "execution_count": null,
      "outputs": []
    },
    {
      "cell_type": "code",
      "source": [
        "# Load image\n",
        "image = ee.Image('LANDSAT/LC08/C01/T1/LC08_044034_20140318')\n",
        "\n",
        "# Define kernels\n",
        "lowpass = ee.Kernel.square(radius=5, normalize=True)\n",
        "highpass = ee.Kernel.square(radius=5, normalize=False)\n",
        "\n",
        "# Filter images\n",
        "smooth = image.convolve(lowpass)\n",
        "sharp = image.convolve(highpass)"
      ],
      "metadata": {
        "id": "Pz0uGYDgt229"
      },
      "execution_count": null,
      "outputs": []
    },
    {
      "cell_type": "code",
      "source": [
        "# Load image\n",
        "image = ee.Image('LANDSAT/LC08/C01/T1/LC08_044034_20140318')\n",
        "\n",
        "# Canny edge detection\n",
        "canny = ee.Algorithms.CannyEdgeDetector(image, 0.7)\n",
        "\n",
        "# Hough transform\n",
        "hough = ee.Algorithms.HoughTransform(canny, 256, 50, 10)"
      ],
      "metadata": {
        "id": "c642wbfst45t"
      },
      "execution_count": null,
      "outputs": []
    },
    {
      "cell_type": "code",
      "source": [
        "# Load image\n",
        "image = ee.Image('LANDSAT/LC08/C01/T1/LC08_044034_20140318')\n",
        "\n",
        "# Convert RGB to HSV\n",
        "hsv = image.select('B[1-3]').rgbToHsv()\n",
        "\n",
        "# Merge with panchromatic band\n",
        "merged = ee.Image.cat(hsv, image.select('B8'))\n",
        "\n",
        "# Convert back to RGB\n",
        "sharpened = merged.hsvToRgb()"
      ],
      "metadata": {
        "id": "IkjkS9aEt8cP"
      },
      "execution_count": null,
      "outputs": []
    },
    {
      "cell_type": "code",
      "source": [
        "# Load NAIP image\n",
        "image = ee.Image('USDA/NAIP/DOQQ/m_3712213_sw_10_1_20140613')\n",
        "\n",
        "# Compute entropy\n",
        "entropy = image.entropy(ee.Kernel.square(7))"
      ],
      "metadata": {
        "id": "PdVM4aP1t_VE"
      },
      "execution_count": null,
      "outputs": []
    },
    {
      "cell_type": "markdown",
      "source": [
        "**Image Classification (20 minutes)**\n",
        "\n",
        "Introduce the concept of supervised and unsupervised classification\n",
        "\n",
        "Show example of unsupervised classification using K-means clustering\n",
        "\n",
        "Demonstrate supervised classification with random forest algorithm\n",
        "\n",
        "Discuss need for training data and strategies for collecting suitable training data\n",
        "\n",
        "Illustrate accuracy assessment after classification to quantify errors\n",
        "\n",
        "Show classification refinement techniques like sieving and clumping"
      ],
      "metadata": {
        "id": "rW0jqVc6qwjO"
      }
    },
    {
      "cell_type": "code",
      "source": [
        "# Load image\n",
        "image = ee.Image('LANDSAT/LC08/C01/T1/LC08_044034_20140318')\n",
        "\n",
        "# Cluster into 5 classes\n",
        "clusters = image.cluster(numberOfClusters=5)"
      ],
      "metadata": {
        "id": "9eLMyy2uuCrV"
      },
      "execution_count": null,
      "outputs": []
    },
    {
      "cell_type": "code",
      "source": [
        "# Load training data\n",
        "training = ee.FeatureCollection('TRAINING_DATA')\n",
        "\n",
        "# Train random forest model\n",
        "rf = ee.Classifier.smileRandomForest(10) \\\n",
        "  .train(training, 'class', bands)\n",
        "\n",
        "# Classify image\n",
        "classified = image.select(bands).classify(rf)"
      ],
      "metadata": {
        "id": "LCgm25Y-uFGf"
      },
      "execution_count": null,
      "outputs": []
    },
    {
      "cell_type": "code",
      "source": [
        "# Load test data\n",
        "test = ee.FeatureCollection('TEST_DATA')\n",
        "\n",
        "# Assess accuracy\n",
        "testAccuracy = classified.errorMatrix(test, 'class', 'classification')\n",
        "print('Accuracy:', testAccuracy.accuracy())"
      ],
      "metadata": {
        "id": "c1kkZIkpuH2W"
      },
      "execution_count": null,
      "outputs": []
    },
    {
      "cell_type": "code",
      "source": [
        "# Sieve to remove small clusters\n",
        "sieved = classified.sieve(5)\n",
        "\n",
        "# Clump classes\n",
        "clumped = sieved.clump()"
      ],
      "metadata": {
        "id": "XHWq83bUuKNP"
      },
      "execution_count": null,
      "outputs": []
    },
    {
      "cell_type": "markdown",
      "source": [
        "\n",
        "Conclusion (5 minutes) **bold text**\n",
        "\n",
        "Briefly summarize key topics covered in the tutorial\n",
        "\n",
        "Point to documentation and other resources for learning more\n",
        "\n",
        "Invite questions and discussion"
      ],
      "metadata": {
        "id": "jL_tMOaSq__i"
      }
    }
  ]
}