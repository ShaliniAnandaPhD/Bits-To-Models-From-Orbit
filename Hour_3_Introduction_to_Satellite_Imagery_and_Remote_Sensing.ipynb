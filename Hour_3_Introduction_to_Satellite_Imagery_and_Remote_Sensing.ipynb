{
  "nbformat": 4,
  "nbformat_minor": 0,
  "metadata": {
    "colab": {
      "provenance": [],
      "authorship_tag": "ABX9TyPRX4GsroDQfncXkNbDvuSb",
      "include_colab_link": true
    },
    "kernelspec": {
      "name": "python3",
      "display_name": "Python 3"
    },
    "language_info": {
      "name": "python"
    }
  },
  "cells": [
    {
      "cell_type": "markdown",
      "metadata": {
        "id": "view-in-github",
        "colab_type": "text"
      },
      "source": [
        "<a href=\"https://colab.research.google.com/github/ShaliniAnandaPhD/Bits-To-Models-From-Orbit/blob/main/Hour_3_Introduction_to_Satellite_Imagery_and_Remote_Sensing.ipynb\" target=\"_parent\"><img src=\"https://colab.research.google.com/assets/colab-badge.svg\" alt=\"Open In Colab\"/></a>"
      ]
    },
    {
      "cell_type": "markdown",
      "source": [
        "**Hour 3: Introduction to Satellite Imagery and Remote Sensing**\n",
        "\n",
        "Overview of Satellite Imagery (20 minutes)\n",
        "\n",
        "What is Satellite Imagery?\n",
        "\n",
        "[Satellite imagery](https://www.maxar.com/space-infrastructure/satellite-imagery) refers to photographs of the Earth taken from satellites orbiting in space. It provides valuable data about our planet and has numerous applications across industries.\n",
        "\n",
        "Types of Satellites:\n",
        "\n",
        "There are different types of Earth observation satellites:\n",
        "\n",
        "- [Geostationary](https://earthobservatory.nasa.gov/features/Geostationary) satellites orbit above a fixed point on the Earth's equator.\n",
        "\n",
        "- [Polar orbiting](https://earthobservatory.nasa.gov/features/PolarOrbiting) satellites circle the planet from north to south pole.\n",
        "\n",
        "- Other orbital patterns like [sun-synchronous](https://directory.eoportal.org/web/eoportal/satellite-missions/s/spot-4) exist too.\n",
        "\n",
        "Types of Imagery:\n",
        "\n",
        "Satellites collect different kinds of imagery, including:\n",
        "\n",
        "- [Optical](https://www.usgs.gov/faqs/what-are-best-satellite-images?qt-news_science_products=0#qt-news_science_products) imagery from visible and infrared light.\n",
        "\n",
        "- [Radar](https://www.ga.gov.au/scientific-topics/national-location-information/topographic-mapping/radar) imagery using radio waves.\n",
        "\n",
        "- [Multispectral](https://www.maxar.com/product-samples/multispectral-imagery) imagery capturing multiple bands.\n",
        "\n",
        "Applications:\n",
        "\n",
        "Key uses of satellite imagery include:\n",
        "\n",
        "- [Weather forecasting](https://www.weather.gov/news/180329-new-goes-satellites)\n",
        "- [Disaster management](https://www.nist.gov/el/natural-disasters/satellite-imagery-disaster-management)\n",
        "- [Agriculture monitoring](https://www.int-arch-photogramm-remote-sens-spatial-inf-sci.net/XLII-3/201/2017/isprs-archives-XLII-3-W3-201-2017.pdf)\n",
        "- [Environmental change detection](https://www.mdpi.com/2072-4292/10/5/764)\n",
        "\n",
        "Satellite imagery is a vital source of Earth observation data with countless real-world benefits. The insights it provides advances our scientific understanding and aids in global sustainability efforts.\n"
      ],
      "metadata": {
        "id": "HBcZkEcYlr08"
      }
    },
    {
      "cell_type": "markdown",
      "source": [
        "Quiz:\n",
        "What are the two main types of satellites?\n",
        "Name an application of infrared satellite imagery."
      ],
      "metadata": {
        "id": "8fZoqdnTlzEF"
      }
    },
    {
      "cell_type": "markdown",
      "source": [
        "**Remote Sensing and Geospatial Data (20 minutes)**\n",
        "\n",
        "What is Remote Sensing?\n",
        "\n",
        "[Remote sensing](https://www.usgs.gov/faqs/what-remote-sensing-and-what-it-used?qt-news_science_products=0#qt-news_science_products) refers to the science of obtaining information about objects or areas from a distance, typically from aircraft or satellites. It involves using sensors and electromagnetic radiation to detect and classify targets on Earth. Common remote sensing approaches include aerial photography, radar, sonar, and LiDAR.\n",
        "\n",
        "Understanding the technology and techniques:\n",
        "\n",
        "Remote sensing relies on advanced technologies like:\n",
        "\n",
        "- [Multispectral scanners](https://www.usgs.gov/faqs/what-a-multispectral-scanner?qt-news_science_products=0#qt-news_science_products) to collect reflected electromagnetic energy.\n",
        "\n",
        "- [Hyperspectral imagers](https://www.usgs.gov/faqs/what-hyperspectral-imaging?qt-news_science_products=0#qt-news_science_products) to acquire high spectral resolution data.\n",
        "\n",
        "- [LiDAR](https://www.usgs.gov/faqs/what-lidar-data-and-what-it-used?qt-news_science_products=0#qt-news_science_products) (Light Detection and Ranging) for measuring distance with laser pulses.\n",
        "\n",
        "It also relies on specialized techniques like:\n",
        "\n",
        "- [Photogrammetry](https://www.usgs.gov/faqs/what-photogrammetry?qt-news_science_products=0#qt-news_science_products) to extract measurements from imagery.\n",
        "\n",
        "- [Object-based image analysis](https://www.sciencedirect.com/topics/earth-and-planetary-sciences/object-based-image-analysis) (OBIA) to classify imagery into meaningful objects.\n",
        "\n",
        "- [Data fusion](https://www.mdpi.com/2072-4292/10/5/771) to integrate multiple sources of remote sensing data.\n",
        "\n",
        "Geospatial Data:\n",
        "\n",
        "[Geospatial data](https://www.esri.com/en-us/what-is-gis/overview) refers to information with a geographic or location component. This includes data derived from remote sensing sources. Geographic Information Systems (GIS) are used to collect, manage, analyze, and visualize geospatial data.\n",
        "\n",
        "Data Analysis and Processing:\n",
        "\n",
        "Remote sensing data undergoes extensive [processing and analysis](https://www.mdpi.com/2072-4292/10/9/1493). This can involve:\n",
        "\n",
        "- Atmospheric and radiometric correction to refine raw imagery.\n",
        "\n",
        "- Classification and feature extraction to identify objects.\n",
        "\n",
        "- Georeferencing and mosaicking to combine images.\n",
        "\n",
        "- GIS integration for advanced modeling and spatial analysis.\n",
        "\n",
        "Powerful computing capabilities help process enormous remote sensing datasets.\n",
        "\n",
        "Quiz:\n",
        "- Define remote sensing in your own words: Remote sensing is the process of gathering information about the Earth's surface using sensors and platforms like satellites that do not have physical contact with the areas being observed.\n",
        "\n",
        "- How is geospatial data different from regular data?: Geospatial data has a location component, meaning the data incorporates geographic positions like latitude/longitude coordinates or map projections. This allows geospatial data to be layered and analyzed based on location and spatial relationships.\n",
        "\n"
      ],
      "metadata": {
        "id": "4FX3QP81l4kd"
      }
    },
    {
      "cell_type": "code",
      "execution_count": null,
      "metadata": {
        "id": "Bo6bf9hRln6x"
      },
      "outputs": [],
      "source": []
    }
  ]
}