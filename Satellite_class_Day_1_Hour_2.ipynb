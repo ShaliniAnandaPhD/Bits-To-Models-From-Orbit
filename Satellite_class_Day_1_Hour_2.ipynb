{
  "nbformat": 4,
  "nbformat_minor": 0,
  "metadata": {
    "colab": {
      "provenance": [],
      "authorship_tag": "ABX9TyOXAeV6YZcRuoIcEQCG5OQ7",
      "include_colab_link": true
    },
    "kernelspec": {
      "name": "python3",
      "display_name": "Python 3"
    },
    "language_info": {
      "name": "python"
    }
  },
  "cells": [
    {
      "cell_type": "markdown",
      "metadata": {
        "id": "view-in-github",
        "colab_type": "text"
      },
      "source": [
        "<a href=\"https://colab.research.google.com/github/ShaliniAnandaPhD/Bits-To-Models-From-Orbit/blob/main/Satellite_class_Day_1_Hour_2.ipynb\" target=\"_parent\"><img src=\"https://colab.research.google.com/assets/colab-badge.svg\" alt=\"Open In Colab\"/></a>"
      ]
    },
    {
      "cell_type": "markdown",
      "source": [
        "Hour 2: Intro to PyTorch & Python for ML\n",
        "\n",
        "Python for ML\n",
        "\n",
        "PyTorch overview\n",
        "\n",
        "Tensors in PyTorch\n",
        "\n",
        "Neural networks in PyTorch"
      ],
      "metadata": {
        "id": "qTdevuHpkI-u"
      }
    },
    {
      "cell_type": "markdown",
      "source": [
        "Install PyTorch: Guide students to install PyTorch if not already installed."
      ],
      "metadata": {
        "id": "wUEA5zuSif8d"
      }
    },
    {
      "cell_type": "code",
      "source": [
        "pip install torch torchvision\n"
      ],
      "metadata": {
        "id": "60wqnMa0ickk"
      },
      "execution_count": null,
      "outputs": []
    },
    {
      "cell_type": "markdown",
      "source": [
        "What is PyTorch?: Explain PyTorch as an open-source machine learning framework.\n",
        "Why PyTorch?: Discuss its flexibility, ease of debugging, and dynamic computation graph."
      ],
      "metadata": {
        "id": "TwnDmcqfijZc"
      }
    },
    {
      "cell_type": "code",
      "source": [
        "import torch\n",
        "print(torch.__version__)\n"
      ],
      "metadata": {
        "id": "7AbQGI0himuU"
      },
      "execution_count": null,
      "outputs": []
    },
    {
      "cell_type": "markdown",
      "source": [
        "Tensors in PyTorch (15 minutes)\n",
        "\n",
        "\n",
        "What are Tensors?: Explain tensors as multi-dimensional arrays.\n",
        "\n",
        "Tensor Operations: Discuss basic tensor operations like addition, multiplication, reshaping."
      ],
      "metadata": {
        "id": "1XgPenz1ip5l"
      }
    },
    {
      "cell_type": "code",
      "source": [
        "# Creating a tensor\n",
        "x = torch.Tensor([5, 3])\n",
        "y = torch.Tensor([2, 1])\n",
        "\n",
        "# Basic Operations\n",
        "print(x + y)  # Addition\n",
        "print(x * y)  # Multiplication\n",
        "print(x.reshape(2, 1))  # Reshaping\n"
      ],
      "metadata": {
        "id": "BVfUjrLJizj_"
      },
      "execution_count": null,
      "outputs": []
    },
    {
      "cell_type": "markdown",
      "source": [
        "Neural Networks in PyTorch (20 minutes)\n",
        "\n",
        "What are Neural Networks?: Brief introduction to neural networks.\n",
        "\n",
        "Building Neural Networks in PyTorch: Explain how PyTorch's torch.nn module can be used to create neural networks.\n"
      ],
      "metadata": {
        "id": "wKi2V_Gni2LQ"
      }
    },
    {
      "cell_type": "code",
      "source": [
        "import torch.nn as nn\n",
        "import torch.nn.functional as F\n",
        "\n",
        "class SimpleNN(nn.Module):\n",
        "    def __init__(self):\n",
        "        super(SimpleNN, self).__init__()\n",
        "        self.fc1 = nn.Linear(2, 3)  # 2 input neurons, 3 hidden neurons\n",
        "        self.fc2 = nn.Linear(3, 1)  # 3 hidden neurons, 1 output neuron\n",
        "\n",
        "    def forward(self, x):\n",
        "        x = F.relu(self.fc1(x))\n",
        "        x = self.fc2(x)\n",
        "        return x\n",
        "\n",
        "# Instantiate the model\n",
        "model = SimpleNN()\n",
        "print(model)\n"
      ],
      "metadata": {
        "id": "94kWrsJ7jP2c"
      },
      "execution_count": null,
      "outputs": []
    },
    {
      "cell_type": "markdown",
      "source": [
        "Question 1: Basic Tensor Operations\n",
        "Task: Write a function tensor_operations that takes two PyTorch tensors as input and returns their addition, element-wise multiplication, and the dot product."
      ],
      "metadata": {
        "id": "c4e_sL5OjUJ5"
      }
    },
    {
      "cell_type": "code",
      "source": [
        "def tensor_operations(x, y):\n",
        "    # Your code here\n",
        "    pass\n",
        "\n",
        "# Example usage:\n",
        "x = torch.Tensor([2, 3])\n",
        "y = torch.Tensor([4, 5])\n",
        "addition, multiplication, dot_product = tensor_operations(x, y)\n"
      ],
      "metadata": {
        "id": "mTSBsZpVjX_E"
      },
      "execution_count": null,
      "outputs": []
    },
    {
      "cell_type": "markdown",
      "source": [
        "Question 2: Reshaping Tensors\n",
        "Task: Write a function reshape_tensor that takes a PyTorch tensor and reshapes it into the given shape. If the reshaping is not possible, return None."
      ],
      "metadata": {
        "id": "3gF-IMSsjbZJ"
      }
    },
    {
      "cell_type": "code",
      "source": [
        "def reshape_tensor(tensor, shape):\n",
        "    # Your code here\n",
        "    pass\n",
        "\n",
        "# Example usage:\n",
        "tensor = torch.Tensor([[1, 2], [3, 4]])\n",
        "new_shape = (4, 1)\n",
        "reshaped_tensor = reshape_tensor(tensor, new_shape)\n"
      ],
      "metadata": {
        "id": "xjC3iIgHjhat"
      },
      "execution_count": null,
      "outputs": []
    },
    {
      "cell_type": "markdown",
      "source": [
        "Question 3: Building a Simple Neural Network\n",
        "Task: Extend the SimpleNN class from the lecture to include an additional hidden layer with 4 neurons and the ReLU activation function."
      ],
      "metadata": {
        "id": "Ie8ATjCljkgn"
      }
    },
    {
      "cell_type": "code",
      "source": [
        "class ExtendedNN(nn.Module):\n",
        "    def __init__(self):\n",
        "        super(ExtendedNN, self).__init__()\n",
        "        # Your code here\n",
        "\n",
        "    def forward(self, x):\n",
        "        # Your code here\n",
        "        pass\n",
        "\n",
        "# Example usage:\n",
        "model = ExtendedNN()\n",
        "print(model)\n"
      ],
      "metadata": {
        "id": "v2z40Ri9jnVU"
      },
      "execution_count": null,
      "outputs": []
    },
    {
      "cell_type": "markdown",
      "source": [
        "Question 4: Implementing a Custom Activation Function\n",
        "Task: Implement a custom activation function, the sigmoid function, without using PyTorch's built-in sigmoid method. Then, apply this function to a given tensor"
      ],
      "metadata": {
        "id": "NRr46FhJjq5W"
      }
    },
    {
      "cell_type": "code",
      "source": [
        "def custom_sigmoid(tensor):\n",
        "    # Your code here\n",
        "    pass\n",
        "\n",
        "# Example usage:\n",
        "tensor = torch.Tensor([2, 3, 4])\n",
        "activated_tensor = custom_sigmoid(tensor)\n"
      ],
      "metadata": {
        "id": "f2WgJjyfjw-S"
      },
      "execution_count": null,
      "outputs": []
    },
    {
      "cell_type": "markdown",
      "source": [
        "Question 5: Linear Regression with PyTorch\n",
        "Task: Create a simple linear regression model using PyTorch and train it with given data (you may use synthetic data or a simple dataset like Boston Housing Prices). Plot the original data points and the regression line after training."
      ],
      "metadata": {
        "id": "5h-44TkMjzHL"
      }
    },
    {
      "cell_type": "code",
      "source": [
        "class LinearRegressionModel(nn.Module):\n",
        "    # Define your Linear Regression model here\n",
        "\n",
        "# Create your dataset and train the model here\n",
        "\n",
        "# Plot the original data points and regression line here\n"
      ],
      "metadata": {
        "id": "ibYokaUbj2Ms"
      },
      "execution_count": null,
      "outputs": []
    }
  ]
}