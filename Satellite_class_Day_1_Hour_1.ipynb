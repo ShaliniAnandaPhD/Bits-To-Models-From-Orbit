{
  "nbformat": 4,
  "nbformat_minor": 0,
  "metadata": {
    "colab": {
      "provenance": [],
      "authorship_tag": "ABX9TyN26ap600rUSK7PQKbaI4Rl",
      "include_colab_link": true
    },
    "kernelspec": {
      "name": "python3",
      "display_name": "Python 3"
    },
    "language_info": {
      "name": "python"
    }
  },
  "cells": [
    {
      "cell_type": "markdown",
      "metadata": {
        "id": "view-in-github",
        "colab_type": "text"
      },
      "source": [
        "<a href=\"https://colab.research.google.com/github/ShaliniAnandaPhD/Bits-To-Models-From-Orbit/blob/main/Satellite_class_Day_1_Hour_1.ipynb\" target=\"_parent\"><img src=\"https://colab.research.google.com/assets/colab-badge.svg\" alt=\"Open In Colab\"/></a>"
      ]
    },
    {
      "cell_type": "markdown",
      "source": [
        "## **Welcome to Our Course!**\n",
        "\n",
        "Hello and welcome! We're excited to have you join us for this enlightening journey into the world of [machine learning](https://en.wikipedia.org/wiki/Machine_learning) (ML) and its critical role in sustainability. Let's take a closer look at what you can expect from this class:\n",
        "\n",
        "Icebreaker Activity\n",
        "\n",
        "Before we dive in, we want to get to know you and your fellow students. During our first session, we'll have a fun icebreaker activity where you'll get to share something about yourself. Get ready to make some new friends!\n",
        "\n",
        "What Will You Learn? (Course Overview)\n",
        "\n",
        "In this course, you will explore:\n",
        "\n",
        "- The fundamental concepts of machine learning.\n",
        "\n",
        "- The role of ML in sustainable practices such as [reducing energy usage](https://www.weforum.org/agenda/2020/11/ai-machine-learning-can-help-companies-become-more-sustainable-heres-how/), [managing waste](https://towardsdatascience.com/how-machine-learning-can-aid-in-waste-management-643f8520030e), and [monitoring deforestation](https://towardsdatascience.com/using-machine-learning-satellite-data-to-combat-deforestation-cc6c76f49096).\n",
        "\n",
        "- Different learning models including [supervised](https://en.wikipedia.org/wiki/Supervised_learning), [unsupervised](https://en.wikipedia.org/wiki/Unsupervised_learning), and [reinforcement learning](https://en.wikipedia.org/wiki/Reinforcement_learning).\n",
        "\n",
        "- Real-world applications of ML across [various industries](https://emerj.com/ai-sector-overviews/) and why they are relevant.\n",
        "\n",
        "How ML is Making a Difference in Sustainability\n",
        "\n",
        "You'll discover how ML contributes to various sustainable practices, like reducing waste, optimizing energy consumption, and monitoring environmental changes. We'll explore real-world examples like [AI for Earth projects](https://www.microsoft.com/en-us/ai/ai-for-earth?activetab=pivot1:primaryr6) to make these concepts come alive.\n",
        "\n",
        "Types of Machine Learning: A Deeper Look\n",
        "\n",
        "You'll delve into different types of machine learning, including:\n",
        "\n",
        "- **Supervised Learning**: Learn about how this method works with labeled data. Check out this [supervised learning guide](https://www.ibm.com/cloud/learn/supervised-learning) for an overview.\n",
        "\n",
        "- **Unsupervised Learning**: Understand how algorithms find hidden patterns without explicit guidance. Read more in this [unsupervised learning tutorial](https://www.geeksforgeeks.org/unsupervised-learning/).\n",
        "\n",
        "- **Reinforcement Learning**: Explore this unique learning process that involves trial and error. Get an intro in this [reinforcement learning explanation](https://www.ibm.com/cloud/learn/reinforcement-learning).\n",
        "\n",
        "Machine Learning in the Real World\n",
        "\n",
        "We'll show you how ML is being used across industries such as [healthcare](https://www.nature.com/articles/s41591-018-0300-7), [finance](https://emerj.com/ai-sector-overviews/machine-learning-in-finance-applications/), and [transportation](https://analyticsindiamag.com/comprehensive-guide-to-machine-learning-in-transportation/). This insight will help you see the vast potential of ML in your own career path.\n",
        "\n",
        "Want to Know More?\n",
        "\n",
        "Throughout the course, we'll provide additional materials such as:\n",
        "\n",
        "- A presentation to visually guide you.\n",
        "\n",
        "- Handouts with essential definitions and diagrams.\n",
        "\n",
        "- Reading lists for those who wish to explore further. Here are some [machine learning resources](https://www.geeksforgeeks.org/the-best-on-machine-learning/) to start with.\n",
        "\n",
        "- Interactive activities to make learning hands-on and fun. Check out these [machine learning games and puzzles](https://bdtechtalks.com/2020/08/24/machine-learning-games-puzzles-tools/).\n",
        "\n",
        "Questions? We're Here for You!\n",
        "\n",
        "At the end of our sessions, we'll have time for your questions. We encourage you to ask anything that helps deepen your understanding. Post on our course [discussion forum](https://www.mightynetworks.com/creators/features) anytime!\n",
        "\n",
        "Ready to Begin?\n",
        "\n",
        "We can't wait to explore this exciting field with you. By the end of this course, you'll have a strong foundation in ML and an understanding of its transformative impact on sustainability. See you in class!"
      ],
      "metadata": {
        "id": "MzPh6tgugQmo"
      }
    },
    {
      "cell_type": "markdown",
      "source": [
        "Assignment:\n",
        "\n",
        "Spend 5 minutes researching a real-world example of how machine learning is being used to promote sustainability. Come prepared to share a brief 1-2 minute summary of the example you found with the class. Be sure to explain:\n",
        "\n",
        "- The sustainability issue being addressed\n",
        "\n",
        "- How machine learning is being applied as a solution\n",
        "\n",
        "- Why this example stood out to you\n",
        "\n",
        "Pop Quiz:\n",
        "\n",
        "1. Which type of machine learning relies on labeled data?\n",
        "\n",
        "a) Supervised learning\n",
        "b) Unsupervised learning\n",
        "c) Reinforcement learning\n",
        "\n",
        "2. How can machine learning help optimize energy consumption?\n",
        "\n",
        "a) By predicting usage patterns to efficiently allocate resources\n",
        "b) By generating renewable energy like solar power\n",
        "c) By visually monitoring energy meters\n",
        "\n",
        "3. What is an example of an unsupervised learning algorithm?\n",
        "\n",
        "a) Linear regression\n",
        "b) K-means clustering\n",
        "c) Artificial neural networks\n",
        "\n",
        "4. How could machine learning monitor deforestation?\n",
        "\n",
        "a) By classifying satellite imagery to detect changes in forest coverage\n",
        "b) By planting more trees\n",
        "c) By surveying people about their paper usage\n",
        "\n",
        "5. Which industry could use machine learning for predictive maintenance?\n",
        "\n",
        "a) Transportation\n",
        "b) Finance\n",
        "c) Healthcare"
      ],
      "metadata": {
        "id": "wF5zkxZahYrx"
      }
    }
  ]
}